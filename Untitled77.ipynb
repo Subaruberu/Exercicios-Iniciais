{
  "nbformat": 4,
  "nbformat_minor": 0,
  "metadata": {
    "colab": {
      "provenance": []
    },
    "kernelspec": {
      "name": "python3",
      "display_name": "Python 3"
    },
    "language_info": {
      "name": "python"
    }
  },
  "cells": [
    {
      "cell_type": "code",
      "execution_count": 3,
      "metadata": {
        "colab": {
          "base_uri": "https://localhost:8080/"
        },
        "id": "zdtNNdnlHMYb",
        "outputId": "cea9a272-4338-4c9a-a2c9-1d7fc59bd41a"
      },
      "outputs": [
        {
          "output_type": "stream",
          "name": "stdout",
          "text": [
            "True\n",
            "False\n",
            "True\n",
            "False\n",
            "True\n",
            "True\n"
          ]
        }
      ],
      "source": [
        "def vogal(caractere):\n",
        "    return caractere.lower() in 'aeiou'\n",
        "\n",
        "\n",
        "print(vogal('a'))\n",
        "print(vogal('b'))\n",
        "print(vogal('E'))\n",
        "print(vogal('z'))\n",
        "print(vogal('i'))\n",
        "print(vogal('O'))"
      ]
    }
  ]
}