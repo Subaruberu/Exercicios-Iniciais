{
  "nbformat": 4,
  "nbformat_minor": 0,
  "metadata": {
    "colab": {
      "provenance": []
    },
    "kernelspec": {
      "name": "python3",
      "display_name": "Python 3"
    },
    "language_info": {
      "name": "python"
    }
  },
  "cells": [
    {
      "cell_type": "code",
      "execution_count": 7,
      "metadata": {
        "colab": {
          "base_uri": "https://localhost:8080/"
        },
        "id": "Qpdtljt5u9Cq",
        "outputId": "8e858ad2-64bd-4d54-fc05-0e135c5c8164"
      },
      "outputs": [
        {
          "output_type": "stream",
          "name": "stdout",
          "text": [
            "Digite um número inteiro: 2222\n",
            "Sim\n"
          ]
        }
      ],
      "source": [
        "n = int(input(\"Digite um número inteiro: \"))\n",
        "\n",
        "tem_adjacente = False\n",
        "\n",
        "x = -1\n",
        "\n",
        "while n > 0:\n",
        "    resto = n % 10\n",
        "    n = n // 10\n",
        "\n",
        "    if resto == x:\n",
        "        tem_adjacente = True\n",
        "        break\n",
        "\n",
        "    x = resto\n",
        "\n",
        "if tem_adjacente:\n",
        "    print(\"Sim\")\n",
        "else:\n",
        "    print(\"Não\")"
      ]
    }
  ]
}