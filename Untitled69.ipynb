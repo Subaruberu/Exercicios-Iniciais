{
  "nbformat": 4,
  "nbformat_minor": 0,
  "metadata": {
    "colab": {
      "provenance": []
    },
    "kernelspec": {
      "name": "python3",
      "display_name": "Python 3"
    },
    "language_info": {
      "name": "python"
    }
  },
  "cells": [
    {
      "cell_type": "code",
      "execution_count": 2,
      "metadata": {
        "colab": {
          "base_uri": "https://localhost:8080/"
        },
        "id": "iiEDSrlHk_dF",
        "outputId": "802befd9-f96e-47a6-e663-5e49efa146c0"
      },
      "outputs": [
        {
          "output_type": "stream",
          "name": "stdout",
          "text": [
            "Digite o valor de n: 12\n",
            "479001600\n"
          ]
        }
      ],
      "source": [
        "# Recebe o número n como entrada\n",
        "n = int(input(\"Digite o valor de n: \"))\n",
        "\n",
        "# Inicializa o fatorial como 1\n",
        "fatorial = 1\n",
        "\n",
        "# Caso especial: se n for 0, o fatorial é 1\n",
        "if n == 0:\n",
        "    fatorial = 1\n",
        "else:\n",
        "    # Calcula o fatorial de n\n",
        "    for i in range(1, n + 1):\n",
        "        fatorial *= i\n",
        "\n",
        "# Imprime o resultado\n",
        "print(fatorial)"
      ]
    }
  ]
}