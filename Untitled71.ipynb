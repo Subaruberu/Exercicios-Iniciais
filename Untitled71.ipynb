{
  "nbformat": 4,
  "nbformat_minor": 0,
  "metadata": {
    "colab": {
      "provenance": []
    },
    "kernelspec": {
      "name": "python3",
      "display_name": "Python 3"
    },
    "language_info": {
      "name": "python"
    }
  },
  "cells": [
    {
      "cell_type": "code",
      "execution_count": 1,
      "metadata": {
        "colab": {
          "base_uri": "https://localhost:8080/"
        },
        "id": "U9ZVFJSamQa1",
        "outputId": "ba9d9735-f944-487f-b971-3d3bb4986d73"
      },
      "outputs": [
        {
          "output_type": "stream",
          "name": "stdout",
          "text": [
            "Digite o valor de n: 12\n",
            "1\n",
            "3\n",
            "5\n",
            "7\n",
            "9\n",
            "11\n",
            "13\n",
            "15\n",
            "17\n",
            "19\n",
            "21\n",
            "23\n"
          ]
        }
      ],
      "source": [
        "# Recebe o número n como entrada\n",
        "n = int(input(\"Digite o valor de n: \"))\n",
        "\n",
        "# Inicializa um contador para os números ímpares\n",
        "numero_impar = 1\n",
        "\n",
        "# Inicializa um contador para a quantidade de números ímpares impressos\n",
        "contagem = 0\n",
        "\n",
        "# Imprime os n primeiros números ímpares\n",
        "while contagem < n:\n",
        "    print(numero_impar)\n",
        "    numero_impar += 2  # Passa para o próximo número ímpar\n",
        "    contagem += 1  # Incrementa a contagem de números impressos\n"
      ]
    }
  ]
}