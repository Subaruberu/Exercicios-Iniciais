{
  "nbformat": 4,
  "nbformat_minor": 0,
  "metadata": {
    "colab": {
      "provenance": []
    },
    "kernelspec": {
      "name": "python3",
      "display_name": "Python 3"
    },
    "language_info": {
      "name": "python"
    }
  },
  "cells": [
    {
      "cell_type": "code",
      "execution_count": 1,
      "metadata": {
        "colab": {
          "base_uri": "https://localhost:8080/"
        },
        "id": "HycSMnkhndh1",
        "outputId": "ba2db41b-b361-41a2-985a-d6376d30c4aa"
      },
      "outputs": [
        {
          "output_type": "stream",
          "name": "stdout",
          "text": [
            "Digite um número inteiro: 123\n",
            "6\n"
          ]
        }
      ],
      "source": [
        "# Recebe o número inteiro como entrada\n",
        "numero = int(input(\"Digite um número inteiro: \"))\n",
        "\n",
        "# Inicializa a variável para armazenar a soma dos dígitos\n",
        "soma_digitos = 0\n",
        "\n",
        "# Itera sobre cada dígito do número\n",
        "while numero > 0:\n",
        "    # Obtém o último dígito\n",
        "    ultimo_digito = numero % 10\n",
        "    # Adiciona o último dígito à soma\n",
        "    soma_digitos += ultimo_digito\n",
        "    # Remove o último dígito do número\n",
        "    numero //= 10\n",
        "\n",
        "# Imprime a soma dos dígitos\n",
        "print(soma_digitos)\n"
      ]
    }
  ]
}