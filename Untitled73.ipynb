{
  "nbformat": 4,
  "nbformat_minor": 0,
  "metadata": {
    "colab": {
      "provenance": []
    },
    "kernelspec": {
      "name": "python3",
      "display_name": "Python 3"
    },
    "language_info": {
      "name": "python"
    }
  },
  "cells": [
    {
      "cell_type": "code",
      "execution_count": 1,
      "metadata": {
        "colab": {
          "base_uri": "https://localhost:8080/"
        },
        "id": "eP06kSbAHft5",
        "outputId": "d9407f26-263b-48d7-cdb1-30f1b08adb19"
      },
      "outputs": [
        {
          "output_type": "stream",
          "name": "stdout",
          "text": [
            "Digite um número inteiro: 123\n",
            "A soma dos dígitos é: 6\n"
          ]
        }
      ],
      "source": [
        "\n",
        "def soma_dos_digitos(numero):\n",
        "    soma = 0\n",
        "    while numero > 0:\n",
        "        digito = numero % 10\n",
        "        soma += digito\n",
        "        numero = numero // 10\n",
        "    return soma\n",
        "\n",
        "numero = int(input(\"Digite um número inteiro: \"))\n",
        "\n",
        "resultado = soma_dos_digitos(numero)\n",
        "\n",
        "print(\"A soma dos dígitos é:\", resultado)\n"
      ]
    }
  ]
}