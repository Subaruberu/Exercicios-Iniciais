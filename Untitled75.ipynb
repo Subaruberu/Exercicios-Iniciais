{
  "nbformat": 4,
  "nbformat_minor": 0,
  "metadata": {
    "colab": {
      "provenance": []
    },
    "kernelspec": {
      "name": "python3",
      "display_name": "Python 3"
    },
    "language_info": {
      "name": "python"
    }
  },
  "cells": [
    {
      "cell_type": "code",
      "execution_count": 10,
      "metadata": {
        "colab": {
          "base_uri": "https://localhost:8080/"
        },
        "id": "957n3_iIKP8x",
        "outputId": "8a505cdb-eca2-4e6b-b93c-5c15978b00e0"
      },
      "outputs": [
        {
          "output_type": "stream",
          "name": "stdout",
          "text": [
            "Digite o valor de n: 5\n",
            "120\n"
          ]
        }
      ],
      "source": [
        "def fatorial(n):\n",
        "    if n == 0:\n",
        "        return 1\n",
        "    else:\n",
        "        return n * fatorial(n - 1)\n",
        "\n",
        "# Solicita ao usuário para digitar um número inteiro positivo\n",
        "n = int(input(\"Digite o valor de n: \"))\n",
        "\n",
        "# Calcula o fatorial do número\n",
        "resultado = fatorial(n)\n",
        "\n",
        "# Imprime o resultado\n",
        "print(resultado)\n"
      ]
    }
  ]
}